{
 "cells": [
  {
   "cell_type": "code",
   "execution_count": 1,
   "metadata": {},
   "outputs": [],
   "source": [
    "import tkinter as tk\n",
    "from tkinter import ttk\n",
    "\n",
    "# --- Main Window ---\n",
    "root = tk.Tk()\n",
    "root.title(\"Route Finder\")\n",
    "root.geometry(\"400x300\")\n",
    "\n",
    "# --- Title Label ---\n",
    "title_label = tk.Label(root, text=\"Multimodal Route Finder\", font=(\"Arial\", 16))\n",
    "title_label.pack(pady=10)\n",
    "\n",
    "# --- Start Location Input ---\n",
    "start_frame = tk.Frame(root)\n",
    "start_frame.pack(pady=5)\n",
    "tk.Label(start_frame, text=\"Start Location (lat, lon):\").pack(side=\"left\")\n",
    "start_entry = tk.Entry(start_frame, width=30)\n",
    "start_entry.pack(side=\"left\")\n",
    "\n",
    "# --- End Location Input ---\n",
    "end_frame = tk.Frame(root)\n",
    "end_frame.pack(pady=5)\n",
    "tk.Label(end_frame, text=\"End Location (lat, lon):\").pack(side=\"left\")\n",
    "end_entry = tk.Entry(end_frame, width=30)\n",
    "end_entry.pack(side=\"left\")\n",
    "\n",
    "# --- Display Area (can show output later) ---\n",
    "display_label = tk.Label(root, text=\"Route summary will appear here.\", wraplength=350, justify=\"left\")\n",
    "display_label.pack(pady=20)\n",
    "\n",
    "# --- Button ---\n",
    "def on_get_route():\n",
    "    start = start_entry.get()\n",
    "    end = end_entry.get()\n",
    "    display_label.config(text=f\"Start: {start}\\nEnd: {end}\\n\\n(Routing logic goes here)\")\n",
    "\n",
    "get_route_btn = tk.Button(root, text=\"Get Route\", command=on_get_route)\n",
    "get_route_btn.pack(pady=10)\n",
    "\n",
    "# --- Run the app ---\n",
    "root.mainloop()\n"
   ]
  }
 ],
 "metadata": {
  "kernelspec": {
   "display_name": "Python 3",
   "language": "python",
   "name": "python3"
  },
  "language_info": {
   "codemirror_mode": {
    "name": "ipython",
    "version": 3
   },
   "file_extension": ".py",
   "mimetype": "text/x-python",
   "name": "python",
   "nbconvert_exporter": "python",
   "pygments_lexer": "ipython3",
   "version": "3.12.9"
  }
 },
 "nbformat": 4,
 "nbformat_minor": 2
}
